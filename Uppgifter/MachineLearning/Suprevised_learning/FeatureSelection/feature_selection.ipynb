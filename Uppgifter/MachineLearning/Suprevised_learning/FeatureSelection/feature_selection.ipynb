{
 "cells": [
  {
   "attachments": {},
   "cell_type": "markdown",
   "metadata": {},
   "source": [
    "Feature selection\n",
    "\n",
    "Today we are going to experiment with feature selection. We will create a few different models and see if we can improve/maintain the same performance with a subset of features."
   ]
  },
  {
   "cell_type": "code",
   "execution_count": 1,
   "metadata": {},
   "outputs": [
    {
     "name": "stdout",
     "output_type": "stream",
     "text": [
      "(1000, 10) (1000,)\n"
     ]
    }
   ],
   "source": [
    "# Create dataset\n",
    "# Vi kan se att vi har ett dataset med 1000 rader, 10 kolumner, 5 av våra features är kassa och 5 är bra\n",
    "\n",
    "from sklearn.datasets import make_classification\n",
    "\n",
    "X, y = make_classification(n_samples=1000, n_features=10, n_informative=5, n_redundant=5, random_state=42)\n",
    "print(X.shape, y.shape)"
   ]
  },
  {
   "attachments": {},
   "cell_type": "markdown",
   "metadata": {},
   "source": [
    "**Create a model**"
   ]
  },
  {
   "cell_type": "code",
   "execution_count": 2,
   "metadata": {},
   "outputs": [],
   "source": [
    "# We start with a random forest model, here we can evaluate the importance of each feature in the model\n",
    "# with feature_importances_ attribuet\n",
    "\n",
    "from sklearn.ensemble import RandomForestClassifier\n",
    "from sklearn.model_selection import train_test_split\n",
    "\n",
    "\n",
    "\n",
    "X_train, X_test, y_train, y_test = train_test_split(X, y, test_size=0.3 ,random_state=42)\n",
    "\n",
    "rf_model = RandomForestClassifier(random_state=42)\n",
    "rf_model.fit(X_train, y_train)\n",
    "\n",
    "importance = rf_model.feature_importances_"
   ]
  },
  {
   "cell_type": "code",
   "execution_count": 3,
   "metadata": {},
   "outputs": [
    {
     "data": {
      "text/plain": [
       "array([0.04150628, 0.09891617, 0.0603883 , 0.27042094, 0.12803106,\n",
       "       0.07157635, 0.07179852, 0.1318597 , 0.04484533, 0.08065736])"
      ]
     },
     "execution_count": 3,
     "metadata": {},
     "output_type": "execute_result"
    }
   ],
   "source": [
    "# Inspect feature importances\n",
    "\n",
    "importance"
   ]
  },
  {
   "cell_type": "code",
   "execution_count": 4,
   "metadata": {},
   "outputs": [
    {
     "name": "stdout",
     "output_type": "stream",
     "text": [
      "Feature: 0, Score: 0.04151\n",
      "Feature: 1, Score: 0.09892\n",
      "Feature: 2, Score: 0.06039\n",
      "Feature: 3, Score: 0.27042\n",
      "Feature: 4, Score: 0.12803\n",
      "Feature: 5, Score: 0.07158\n",
      "Feature: 6, Score: 0.07180\n",
      "Feature: 7, Score: 0.13186\n",
      "Feature: 8, Score: 0.04485\n",
      "Feature: 9, Score: 0.08066\n"
     ]
    },
    {
     "data": {
      "image/png": "[encoded data removed]",
      "text/plain": [
       "<Figure size 640x480 with 1 Axes>"
      ]
     },
     "metadata": {},
     "output_type": "display_data"
    }
   ],
   "source": [
    "from matplotlib import pyplot as plt\n",
    "\n",
    "# Print the feature performance prettier\n",
    "\n",
    "for i, v in enumerate(importance):\n",
    "    print('Feature: %0d, Score: %.5f' % (i,v))\n",
    "\n",
    "# Plot feature importance\n",
    "plt.bar([x for x in range(len(importance))], importance)\n",
    "plt.show()"
   ]
  },
  {
   "attachments": {},
   "cell_type": "markdown",
   "metadata": {},
   "source": [
    "**Creating a model using the best features**"
   ]
  },
  {
   "cell_type": "code",
   "execution_count": 10,
   "metadata": {},
   "outputs": [
    {
     "name": "stdout",
     "output_type": "stream",
     "text": [
      "X_train_fs shape:  (700, 5) X_train shape:  (700, 10)\n",
      "X_test_fs shape:  (300, 5) X_test shape:  (300, 10)\n"
     ]
    }
   ],
   "source": [
    "# Vi vill nu ta bort de features som inte är informativa\n",
    "# vi kan göra detta genom att använda SelectFromModel\n",
    "\n",
    "from sklearn.feature_selection import SelectFromModel\n",
    "\n",
    "# Write a function that selects the most important features\n",
    "\n",
    "def select_features(X_train, y_train, X_test):\n",
    "    # Find a good subset of features\n",
    "\n",
    "    fs = SelectFromModel(RandomForestClassifier(n_estimators=100, random_state=42), threshold=0.08)\n",
    "    fs.fit(X_train, y_train)\n",
    "    X_train_fs = fs.transform(X_train)\n",
    "    print('X_train_fs shape: ', X_train_fs.shape, 'X_train shape: ', X_train.shape)\n",
    "    X_test_fs = fs.transform(X_test)\n",
    "    print('X_test_fs shape: ', X_test_fs.shape, 'X_test shape: ', X_test.shape)\n",
    "\n",
    "    return X_train_fs, X_test_fs, fs\n",
    "\n",
    "X_train_fs, X_test_fs, fs = select_features(X_train, y_train, X_test)\n",
    "\n",
    "# Vi kan nu se att vi fått ut 5 features som är de mest informativa\n",
    "\n"
   ]
  },
  {
   "cell_type": "code",
   "execution_count": 11,
   "metadata": {},
   "outputs": [
    {
     "name": "stdout",
     "output_type": "stream",
     "text": [
      "              precision    recall  f1-score   support\n",
      "\n",
      "           0       0.89      0.93      0.91       144\n",
      "           1       0.93      0.90      0.92       156\n",
      "\n",
      "    accuracy                           0.91       300\n",
      "   macro avg       0.91      0.91      0.91       300\n",
      "weighted avg       0.91      0.91      0.91       300\n",
      "\n"
     ]
    }
   ],
   "source": [
    "from sklearn.metrics import classification_report\n",
    "\n",
    "# Vi kan nu träna en ny modell med de nya featuresen\n",
    "\n",
    "rf = RandomForestClassifier(n_estimators=100, random_state=42)\n",
    "rf.fit(X_train_fs, y_train)\n",
    "\n",
    "y_pred = rf.predict(X_test_fs)\n",
    "\n",
    "# Evaluate the performance of the model\n",
    "print(classification_report(y_test, y_pred))"
   ]
  },
  {
   "cell_type": "code",
   "execution_count": 9,
   "metadata": {},
   "outputs": [
    {
     "name": "stdout",
     "output_type": "stream",
     "text": [
      "              precision    recall  f1-score   support\n",
      "\n",
      "           0       0.93      0.94      0.93       144\n",
      "           1       0.95      0.93      0.94       156\n",
      "\n",
      "    accuracy                           0.94       300\n",
      "   macro avg       0.94      0.94      0.94       300\n",
      "weighted avg       0.94      0.94      0.94       300\n",
      "\n"
     ]
    }
   ],
   "source": [
    "# VI kan skapa en modell msom jämför de 3 featuresen med de alla 10 featuresen\n",
    "\n",
    "rf_all_features = RandomForestClassifier(n_estimators=100, random_state=42)\n",
    "rf_all_features.fit(X_train, y_train)\n",
    "\n",
    "y_pred_all_features = rf_all_features.predict(X_test)\n",
    "\n",
    "# Evaluate the performance of the model\n",
    "print(classification_report(y_test, y_pred_all_features))\n"
   ]
  }
 ],
 "metadata": {
  "kernelspec": {
   "display_name": "venv",
   "language": "python",
   "name": "python3"
  },
  "language_info": {
   "codemirror_mode": {
    "name": "ipython",
    "version": 3
   },
   "file_extension": ".py",
   "mimetype": "text/x-python",
   "name": "python",
   "nbconvert_exporter": "python",
   "pygments_lexer": "ipython3",
   "version": "3.11.1"
  },
  "orig_nbformat": 4
 },
 "nbformat": 4,
 "nbformat_minor": 2
}
