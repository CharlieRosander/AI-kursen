{
 "cells": [
  {
   "cell_type": "code",
   "execution_count": 2,
   "id": "a26ecc29",
   "metadata": {},
   "outputs": [],
   "source": [
    "import requests\n",
    "import os\n",
    "import pandas as pd"
   ]
  },
  {
   "cell_type": "code",
   "execution_count": 3,
   "id": "92e44c50",
   "metadata": {},
   "outputs": [],
   "source": [
    "openweathermap_api_key = \"8aa9225c5c2b6bfa6519474cf42233f9\"\n",
    "\n",
    "city_query = \"stockholm, se\"\n",
    "\n",
    "url = f'http://api.openweathermap.org/data/2.5/weather?q={city_query}&appid={openweathermap_api_key}&units=metric'\n",
    "response = requests.get(url).json()\n",
    "\n",
    "response_df = pd.json_normalize(response)"
   ]
  },
  {
   "cell_type": "code",
   "execution_count": 4,
   "id": "2f711c77",
   "metadata": {},
   "outputs": [
    {
     "data": {
      "text/html": [
       "<div>\n",
       "<style scoped>\n",
       "    .dataframe tbody tr th:only-of-type {\n",
       "        vertical-align: middle;\n",
       "    }\n",
       "\n",
       "    .dataframe tbody tr th {\n",
       "        vertical-align: top;\n",
       "    }\n",
       "\n",
       "    .dataframe thead th {\n",
       "        text-align: right;\n",
       "    }\n",
       "</style>\n",
       "<table border=\"1\" class=\"dataframe\">\n",
       "  <thead>\n",
       "    <tr style=\"text-align: right;\">\n",
       "      <th></th>\n",
       "      <th>weather</th>\n",
       "      <th>base</th>\n",
       "      <th>visibility</th>\n",
       "      <th>dt</th>\n",
       "      <th>timezone</th>\n",
       "      <th>id</th>\n",
       "      <th>name</th>\n",
       "      <th>cod</th>\n",
       "      <th>coord.lon</th>\n",
       "      <th>coord.lat</th>\n",
       "      <th>...</th>\n",
       "      <th>main.pressure</th>\n",
       "      <th>main.humidity</th>\n",
       "      <th>wind.speed</th>\n",
       "      <th>wind.deg</th>\n",
       "      <th>clouds.all</th>\n",
       "      <th>sys.type</th>\n",
       "      <th>sys.id</th>\n",
       "      <th>sys.country</th>\n",
       "      <th>sys.sunrise</th>\n",
       "      <th>sys.sunset</th>\n",
       "    </tr>\n",
       "  </thead>\n",
       "  <tbody>\n",
       "    <tr>\n",
       "      <th>0</th>\n",
       "      <td>[{'id': 802, 'main': 'Clouds', 'description': ...</td>\n",
       "      <td>stations</td>\n",
       "      <td>10000</td>\n",
       "      <td>1682509719</td>\n",
       "      <td>7200</td>\n",
       "      <td>2673730</td>\n",
       "      <td>Stockholm</td>\n",
       "      <td>200</td>\n",
       "      <td>18.0649</td>\n",
       "      <td>59.3326</td>\n",
       "      <td>...</td>\n",
       "      <td>1000</td>\n",
       "      <td>60</td>\n",
       "      <td>6.17</td>\n",
       "      <td>260</td>\n",
       "      <td>40</td>\n",
       "      <td>1</td>\n",
       "      <td>1788</td>\n",
       "      <td>SE</td>\n",
       "      <td>1682478201</td>\n",
       "      <td>1682533654</td>\n",
       "    </tr>\n",
       "  </tbody>\n",
       "</table>\n",
       "<p>1 rows × 24 columns</p>\n",
       "</div>"
      ],
      "text/plain": [
       "                                             weather      base  visibility  \\\n",
       "0  [{'id': 802, 'main': 'Clouds', 'description': ...  stations       10000   \n",
       "\n",
       "           dt  timezone       id       name  cod  coord.lon  coord.lat  ...  \\\n",
       "0  1682509719      7200  2673730  Stockholm  200    18.0649    59.3326  ...   \n",
       "\n",
       "   main.pressure  main.humidity  wind.speed  wind.deg  clouds.all  sys.type  \\\n",
       "0           1000             60        6.17       260          40         1   \n",
       "\n",
       "   sys.id  sys.country  sys.sunrise  sys.sunset  \n",
       "0    1788           SE   1682478201  1682533654  \n",
       "\n",
       "[1 rows x 24 columns]"
      ]
     },
     "execution_count": 4,
     "metadata": {},
     "output_type": "execute_result"
    }
   ],
   "source": [
    "response_df"
   ]
  },
  {
   "cell_type": "code",
   "execution_count": 5,
   "id": "f86f8f20",
   "metadata": {},
   "outputs": [
    {
     "data": {
      "text/plain": [
       "Index(['weather', 'base', 'visibility', 'dt', 'timezone', 'id', 'name', 'cod',\n",
       "       'coord.lon', 'coord.lat', 'main.temp', 'main.feels_like',\n",
       "       'main.temp_min', 'main.temp_max', 'main.pressure', 'main.humidity',\n",
       "       'wind.speed', 'wind.deg', 'clouds.all', 'sys.type', 'sys.id',\n",
       "       'sys.country', 'sys.sunrise', 'sys.sunset'],\n",
       "      dtype='object')"
      ]
     },
     "execution_count": 5,
     "metadata": {},
     "output_type": "execute_result"
    }
   ],
   "source": [
    "response_df.columns"
   ]
  },
  {
   "cell_type": "code",
   "execution_count": 6,
   "id": "32dfd0d8",
   "metadata": {},
   "outputs": [],
   "source": [
    "weather_data = response_df[\"weather\"]"
   ]
  },
  {
   "cell_type": "code",
   "execution_count": 7,
   "id": "be2a4c29",
   "metadata": {},
   "outputs": [
    {
     "data": {
      "text/plain": [
       "0    [{'id': 802, 'main': 'Clouds', 'description': ...\n",
       "Name: weather, dtype: object"
      ]
     },
     "execution_count": 7,
     "metadata": {},
     "output_type": "execute_result"
    }
   ],
   "source": [
    "weather_data"
   ]
  },
  {
   "cell_type": "code",
   "execution_count": 9,
   "id": "5e3199f5",
   "metadata": {},
   "outputs": [
    {
     "data": {
      "text/plain": [
       "array([list([{'id': 802, 'main': 'Clouds', 'description': 'scattered clouds', 'icon': '03d'}])],\n",
       "      dtype=object)"
      ]
     },
     "execution_count": 9,
     "metadata": {},
     "output_type": "execute_result"
    }
   ],
   "source": [
    "weather_data.values"
   ]
  },
  {
   "cell_type": "code",
   "execution_count": null,
   "id": "b3a12858",
   "metadata": {},
   "outputs": [],
   "source": []
  }
 ],
 "metadata": {
  "kernelspec": {
   "display_name": "Python 3 (ipykernel)",
   "language": "python",
   "name": "python3"
  },
  "language_info": {
   "codemirror_mode": {
    "name": "ipython",
    "version": 3
   },
   "file_extension": ".py",
   "mimetype": "text/x-python",
   "name": "python",
   "nbconvert_exporter": "python",
   "pygments_lexer": "ipython3",
   "version": "3.11.1"
  }
 },
 "nbformat": 4,
 "nbformat_minor": 5
}
